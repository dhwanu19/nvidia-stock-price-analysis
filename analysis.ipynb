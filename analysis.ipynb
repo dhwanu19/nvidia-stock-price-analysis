{
 "cells": [
  {
   "cell_type": "markdown",
   "metadata": {},
   "source": [
    "# **NVIDIA Stock Price Analysis**\n",
    "## **Objective:**\n",
    "- The primary objective of this project is to further my understanding of NVIDIA as a company and a stock market investment. This can be done using the following:\n",
    "- Use Deep Learning & Neural Networks (application of research).\n",
    "- Perform an EDA on NVIDIA's stock price, and relate this to the real world. This could involve:\n",
    "    - Trend Analysis\n",
    "    - Volatility Analysis\n",
    "    - Earnings Reports\n",
    "    - Balance Sheet Health\n",
    "    - Sector Trends\n",
    "    - Competitive Position\n",
    "    - Sentiment of Other Investors\n",
    "- Perform a predictive analysis on NVIDIA's stock price.\n",
    "    - Using RNNs and LSTMs\n",
    "    "
   ]
  },
  {
   "cell_type": "markdown",
   "metadata": {},
   "source": [
    "Installations:"
   ]
  },
  {
   "cell_type": "code",
   "execution_count": null,
   "metadata": {},
   "outputs": [],
   "source": [
    "%pip install pandas\n",
    "%pip install yfinance"
   ]
  },
  {
   "cell_type": "markdown",
   "metadata": {},
   "source": [
    "Imports:"
   ]
  },
  {
   "cell_type": "code",
   "execution_count": null,
   "metadata": {},
   "outputs": [],
   "source": [
    "from datetime import datetime\n",
    "from dateutil.relativedelta import relativedelta\n",
    "import yfinance as yf\n",
    "\n",
    "import keras\n",
    "import matplotlib.pyplot as plt\n",
    "\n",
    "import numpy as np\n",
    "import pandas as pd\n",
    "import seaborn as sns\n",
    "import os "
   ]
  },
  {
   "cell_type": "code",
   "execution_count": null,
   "metadata": {},
   "outputs": [],
   "source": [
    "keras.backend.set_image_data_format(\"channels_last\")\n",
    "sns.set_style('whitegrid')\n",
    "plt.style.use(\"fivethirtyeight\")\n",
    "yf.pdr_override()\n",
    "%matplotlib inline"
   ]
  },
  {
   "cell_type": "markdown",
   "metadata": {},
   "source": [
    "Data Retreival & Cleaning:"
   ]
  },
  {
   "cell_type": "code",
   "execution_count": null,
   "metadata": {},
   "outputs": [],
   "source": [
    "now = datetime.now()\n",
    "data = yf.download('NVDA', now - relativedelta(years=5), now)\n",
    "data['Stock'] = \"NVIDIA\"\n",
    "\n",
    "print(data.describe())\n",
    "print(data.info())"
   ]
  }
 ],
 "metadata": {
  "language_info": {
   "name": "python"
  }
 },
 "nbformat": 4,
 "nbformat_minor": 2
}
