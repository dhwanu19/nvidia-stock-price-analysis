{
 "cells": [
  {
   "cell_type": "markdown",
   "metadata": {},
   "source": [
    "# **NVIDIA Stock Price Analysis**\n",
    "## **Objective:**\n",
    "- The primary objective of this project is to further my understanding of NVIDIA as a company and a stock market investment. This can be done using the following:\n",
    "- Use Deep Learning & Neural Networks (application of research).\n",
    "- Perform an EDA on NVIDIA's stock price, and relate this to the real world. This could involve:\n",
    "    - Trend Analysis\n",
    "    - Volatility Analysis\n",
    "    - Earnings Reports\n",
    "    - Balance Sheet Health\n",
    "    - Sector Trends\n",
    "    - Competitive Position\n",
    "    - Sentiment of Other Investors\n",
    "- Perform a predictive analysis on NVIDIA's stock price."
   ]
  },
  {
   "cell_type": "code",
   "execution_count": null,
   "metadata": {},
   "outputs": [],
   "source": []
  }
 ],
 "metadata": {
  "language_info": {
   "name": "python"
  }
 },
 "nbformat": 4,
 "nbformat_minor": 2
}
