{
 "cells": [
  {
   "cell_type": "markdown",
   "metadata": {},
   "source": [
    "# **NVIDIA Stock Price Analysis**\n",
    "## **Objective:**\n",
    "- The primary objective of this project is to further my understanding of NVIDIA as a company and a stock market investment. This can be done using the following:\n",
    "- Use Deep Learning & Neural Networks (application of research).\n",
    "- Perform an EDA on NVIDIA's stock price, and relate this to the real world. This could involve:\n",
    "    - Trend Analysis\n",
    "    - Volatility Analysis\n",
    "    - Earnings Reports\n",
    "    - Balance Sheet Health\n",
    "    - Sector Trends\n",
    "    - Competitive Position\n",
    "    - Sentiment of Other Investors\n",
    "- Perform a predictive analysis on NVIDIA's stock price.\n",
    "    - Using RNNs and LSTMs\n",
    "- Perform the analysis above with reference to NVIDIA's competitors\n",
    "    - Namely, AMD, Intel and QualComm\n",
    "    "
   ]
  },
  {
   "cell_type": "markdown",
   "metadata": {},
   "source": [
    "### Installations:"
   ]
  },
  {
   "cell_type": "code",
   "execution_count": null,
   "metadata": {},
   "outputs": [],
   "source": [
    "%pip install pandas\n",
    "%pip install yfinance"
   ]
  },
  {
   "cell_type": "markdown",
   "metadata": {},
   "source": [
    "### Imports:"
   ]
  },
  {
   "cell_type": "code",
   "execution_count": null,
   "metadata": {},
   "outputs": [],
   "source": [
    "from datetime import datetime\n",
    "from dateutil.relativedelta import relativedelta\n",
    "import yfinance as yf\n",
    "\n",
    "import keras\n",
    "import matplotlib.pyplot as plt\n",
    "\n",
    "import numpy as np\n",
    "import pandas as pd\n",
    "import seaborn as sns\n",
    "import os "
   ]
  },
  {
   "cell_type": "code",
   "execution_count": null,
   "metadata": {},
   "outputs": [],
   "source": [
    "keras.backend.set_image_data_format(\"channels_last\")\n",
    "sns.set_style('whitegrid')\n",
    "plt.style.use(\"fivethirtyeight\")\n",
    "yf.pdr_override()\n",
    "%matplotlib inline"
   ]
  },
  {
   "cell_type": "markdown",
   "metadata": {},
   "source": [
    "### Data Retreival & Cleaning:"
   ]
  },
  {
   "cell_type": "code",
   "execution_count": null,
   "metadata": {},
   "outputs": [],
   "source": [
    "# Retrieve 5 Years of NVIDIA's Stock Data\n",
    "stocks = ['NVDA', 'AMD', 'INTC', 'QCOM']\n",
    "data_list = []\n",
    "\n",
    "# now = datetime.now()\n",
    "now = datetime(2023, 11, 1)\n",
    "\n",
    "\n",
    "for stock in stocks:\n",
    "    df = yf.download(stock, now - relativedelta(years=5), now)\n",
    "    df['Stock'] = stock\n",
    "    data_list.append(df)\n",
    "\n",
    "c_names = [\"NVIDIA\", \"AMD\", \"INTEL\", \"QUALCOMM\"]\n",
    "colors = {\n",
    "    \"NVIDIA\": \"green\",\n",
    "    \"INTEL\": \"#6fa8dc\", \n",
    "    \"AMD\": \"red\",\n",
    "    \"QUALCOMM\": \"darkblue\" \n",
    "}\n",
    "\n",
    "for c_data, c_name in zip(data_list, c_names):\n",
    "    c_data['Company Name'] = c_name\n",
    "\n",
    "data = pd.concat(data_list, axis = 0)\n",
    "\n",
    "# Descriptive Statistics & Information\n",
    "print(data.describe())\n",
    "print(data.info())\n",
    "\n",
    "# Data Cleaning"
   ]
  },
  {
   "cell_type": "markdown",
   "metadata": {},
   "source": [
    "### EDA of Stock Price"
   ]
  },
  {
   "cell_type": "markdown",
   "metadata": {},
   "source": [
    "#### Data Visualisation"
   ]
  },
  {
   "cell_type": "code",
   "execution_count": null,
   "metadata": {},
   "outputs": [],
   "source": [
    "# Set up the matplotlib figure and axes for a 2x2 grid\n",
    "fig, axs = plt.subplots(2, 2, figsize=(20, 10))\n",
    "axs = axs.flatten()\n",
    "\n",
    "for i, (c_data, c_name) in enumerate(zip(data_list, c_names)):\n",
    "    c_data['MA50'] = c_data['Open'].rolling(50).mean()\n",
    "    c_data['MA200'] = c_data['Open'].rolling(200).mean()\n",
    "    \n",
    "    # Direct Pandas plot to use a specific Matplotlib subplot\n",
    "    c_data[['Open', 'MA50', 'MA200']].plot(ax=axs[i], figsize=(24, 15), title=f\"{c_name} Stock Price and Moving Averages\")\n",
    "    \n",
    "    axs[i].set_xlabel('Date')\n",
    "    axs[i].set_ylabel('Price')\n",
    "    axs[i].legend([\"Open\", \"MA50\", \"MA200\"])\n",
    "\n",
    "plt.tight_layout()\n",
    "plt.show()"
   ]
  },
  {
   "cell_type": "code",
   "execution_count": null,
   "metadata": {},
   "outputs": [],
   "source": [
    "# Set the figure size and title\n",
    "plt.figure(figsize=(24, 15))\n",
    "plt.title(\"Stock Volumes\")\n",
    "\n",
    "# Filter and plot volume for each company\n",
    "for c_name in c_names:\n",
    "    # Filter the data for the current company\n",
    "    company_data = data[data['Company Name'] == c_name]\n",
    "    \n",
    "    # Plot the volume data\n",
    "    plt.plot(company_data.index, company_data['Volume'], label=c_name, color=colors[c_name], alpha=0.4, linewidth=2.5)\n",
    "\n",
    "plt.legend(loc=\"best\")\n",
    "plt.grid(True)\n",
    "plt.xlabel('Date')\n",
    "plt.ylabel('Volume')\n",
    "plt.show()"
   ]
  },
  {
   "cell_type": "markdown",
   "metadata": {},
   "source": [
    "#### Annual Growth Rate"
   ]
  },
  {
   "cell_type": "code",
   "execution_count": null,
   "metadata": {},
   "outputs": [],
   "source": [
    "# Calculating Compound Annual Growth Rate\n",
    "cagr_results = {}\n",
    "n_years = 5  # The period over which we're calculating CAGR\n",
    "\n",
    "for c_data, c_name in zip(data_list, c_names):\n",
    "    # Extract the closing price at the beginning and end of the period\n",
    "    beginning_value = c_data['Adj Close'].iloc[0]\n",
    "    ending_value = c_data['Adj Close'].iloc[-1]\n",
    "    \n",
    "    # Calculate CAGR\n",
    "    cagr = ((ending_value / beginning_value) ** (1 / n_years)) - 1\n",
    "    cagr_results[c_name] = cagr\n",
    "\n",
    "# Print the CAGR for each company\n",
    "for company, cagr in cagr_results.items():\n",
    "    print(f\"{company}: {cagr*100:.2f}% annual growth rate\")"
   ]
  },
  {
   "cell_type": "markdown",
   "metadata": {},
   "source": [
    "#### Correlation"
   ]
  },
  {
   "cell_type": "code",
   "execution_count": null,
   "metadata": {},
   "outputs": [],
   "source": [
    "# Select only the 'Adj Close' column for each stock\n",
    "adj_closes = pd.DataFrame({c_name: c_data['Adj Close'] for c_data, c_name in zip(data_list, c_names)})\n",
    "\n",
    "# Correlation as PairPlot\n",
    "tech_rets = adj_closes.pct_change()\n",
    "sns.set(rc={'figure.figsize':(12,12)})\n",
    "sns.set_context('talk')\n",
    "sns.pairplot(tech_rets, kind='scatter', plot_kws={'alpha':0.1, 's':10})\n",
    "sns.set_palette('deep')\n",
    "sns.set_style('whitegrid', {'axes.grid' : True})\n",
    "\n",
    "plt.show()\n",
    "\n",
    "# Correlation as Heatmap\n",
    "corr_matrix = tech_rets.corr()\n",
    "plt.figure(figsize=(10, 8))\n",
    "sns.heatmap(corr_matrix, annot=True, cmap='coolwarm', fmt=\".2f\")\n",
    "plt.show()"
   ]
  },
  {
   "cell_type": "markdown",
   "metadata": {},
   "source": [
    "#### Risk VS Expected Return"
   ]
  },
  {
   "cell_type": "code",
   "execution_count": null,
   "metadata": {},
   "outputs": [],
   "source": [
    "plt.figure(figsize=(24, 15))\n",
    "area = np.pi * 20\n",
    "\n",
    "# Iterate over each company name to calculate and plot their expected return and risk\n",
    "for c_name in c_names:\n",
    "    # Create a boolean mask for the current company\n",
    "    mask = data['Company Name'] == c_name\n",
    "    # Calculate the daily return and store it in a temporary variable instead of modifying the slice directly\n",
    "    daily_return = data.loc[mask, 'Adj Close'].pct_change()\n",
    "    # Now you can work with daily_return directly without modifying the original DataFrame\n",
    "    mean_return = daily_return.mean()\n",
    "    risk = daily_return.std()\n",
    "    \n",
    "    plt.scatter(mean_return, risk, s=area, label=c_name, alpha=0.9, linewidths=2, edgecolors='w')\n",
    "    \n",
    "    plt.annotate(f'{c_name} ({mean_return:.2%}, {risk:.2%})', \n",
    "        xy=(mean_return, risk), \n",
    "        xytext=(10, 5), \n",
    "        textcoords='offset points', \n",
    "        fontsize=12, \n",
    "        arrowprops=dict(arrowstyle=\"->\", connectionstyle=\"arc3,rad=.2\"))\n",
    "\n",
    "plt.title('Expected Return vs. Risk for Each Company')\n",
    "plt.xlabel('Expected Return')\n",
    "plt.ylabel('Risk')\n",
    "\n",
    "plt.legend(loc='upper right')\n",
    "plt.grid(True)\n",
    "plt.show()"
   ]
  },
  {
   "cell_type": "markdown",
   "metadata": {},
   "source": [
    "#### Target Distribution"
   ]
  },
  {
   "cell_type": "code",
   "execution_count": null,
   "metadata": {},
   "outputs": [],
   "source": [
    "# Create a new figure with a 2x2 grid of subplots\n",
    "fig, axs = plt.subplots(2, 2, figsize=(20, 20))\n",
    "\n",
    "# Loop through each stock in your list and plot its target distribution\n",
    "for i, (stock_data, stock_name) in enumerate(zip(data_list, c_names)):\n",
    "    # Calculate the target variable (e.g., daily returns) for the current stock\n",
    "    daily_return = stock_data['Adj Close'].pct_change()\n",
    "    \n",
    "    # Plot the target distribution using a KDE plot on the appropriate subplot\n",
    "    row, col = divmod(i, 2)  # Calculate the row and column indices of the subplot\n",
    "    sns.kdeplot(daily_return.dropna(), fill=True, ax=axs[row, col])\n",
    "    axs[row, col].set_title(f'Target Distribution for {stock_name}', weight='bold', fontsize=20)\n",
    "    axs[row, col].set_xlabel('Daily Return', fontsize=15)\n",
    "    axs[row, col].set_ylabel('Density', fontsize=15)\n",
    "\n",
    "# Adjust layout and spacing\n",
    "plt.tight_layout()\n",
    "\n",
    "# Show the plot\n",
    "plt.show()"
   ]
  },
  {
   "cell_type": "code",
   "execution_count": null,
   "metadata": {},
   "outputs": [],
   "source": [
    "# mean_target = daily_return.mean()\n",
    "# median_target = daily_return.median()\n",
    "# std_target = daily_return.std()\n",
    "# skewness_target = daily_return.skew()\n",
    "# kurtosis_target = daily_return.kurtosis()\n",
    "\n",
    "# print(f\"Mean: {mean_target}\")\n",
    "# print(f\"Median: {median_target}\")\n",
    "# print(f\"Standard Deviation: {std_target}\")\n",
    "# print(f\"Skewness: {skewness_target}\")\n",
    "# print(f\"Kurtosis: {kurtosis_target}\")"
   ]
  },
  {
   "cell_type": "code",
   "execution_count": null,
   "metadata": {},
   "outputs": [],
   "source": [
    "# Calculate statistics for each stock and print them\n",
    "for stock_data, stock_name in zip(data_list, c_names):\n",
    "    # Calculate target variable (e.g., daily returns) for the current stock\n",
    "    daily_return = stock_data['Adj Close'].pct_change().dropna()\n",
    "    \n",
    "    # Compute statistics\n",
    "    mean_target = daily_return.mean()\n",
    "    median_target = daily_return.median()\n",
    "    std_target = daily_return.std()\n",
    "    skewness_target = daily_return.skew()\n",
    "    kurtosis_target = daily_return.kurtosis()\n",
    "    \n",
    "    # Print the statistics for the current stock\n",
    "    print(f\"Target Distribution Statistics for {stock_name}:\")\n",
    "    print(f\"Mean: {mean_target:.5f}\")\n",
    "    print(f\"Median: {median_target:.5f}\")\n",
    "    print(f\"Standard Deviation: {std_target:.5f}\")\n",
    "    print(f\"Skewness: {skewness_target:.5f}\")\n",
    "    print(f\"Kurtosis: {kurtosis_target:.5f}\")\n",
    "    print()"
   ]
  },
  {
   "cell_type": "code",
   "execution_count": null,
   "metadata": {},
   "outputs": [],
   "source": [
    "# Create a new figure with a 2x2 grid of subplots\n",
    "fig, axs = plt.subplots(2, 2, figsize=(20, 20))\n",
    "\n",
    "# Define rolling windows for calculating the average target\n",
    "rolling_windows = [10, 20, 50, 100]\n",
    "\n",
    "# Loop through each stock in your list and plot its average target over different days\n",
    "for i, (stock_data, stock_name) in enumerate(zip(data_list, c_names)):\n",
    "    # Calculate the target variable (e.g., daily returns) for the current stock\n",
    "    daily_return = stock_data['Adj Close'].pct_change()\n",
    "    \n",
    "    # Plot the average target over different days\n",
    "    row, col = divmod(i, 2)  # Calculate the row and column indices of the subplot\n",
    "    for window in rolling_windows:\n",
    "        # Calculate the average target using a rolling window\n",
    "        avg_target = daily_return.rolling(window).mean()\n",
    "        \n",
    "        # Plot the average target on the appropriate subplot\n",
    "        axs[row, col].plot(avg_target, label=f'{window}-day Average')\n",
    "        axs[row, col].set_title(f'Average Target over Different Days for {stock_name}', weight='bold', fontsize=20)\n",
    "        axs[row, col].set_xlabel('Date', fontsize=15)\n",
    "        axs[row, col].set_ylabel('Average Target', fontsize=15)\n",
    "        axs[row, col].legend()\n",
    "\n",
    "# Adjust layout and spacing\n",
    "plt.tight_layout()\n",
    "\n",
    "# Show the plot\n",
    "plt.show()\n"
   ]
  }
 ],
 "metadata": {
  "kernelspec": {
   "display_name": "Python 3",
   "language": "python",
   "name": "python3"
  },
  "language_info": {
   "codemirror_mode": {
    "name": "ipython",
    "version": 3
   },
   "file_extension": ".py",
   "mimetype": "text/x-python",
   "name": "python",
   "nbconvert_exporter": "python",
   "pygments_lexer": "ipython3",
   "version": "3.11.7"
  }
 },
 "nbformat": 4,
 "nbformat_minor": 2
}
